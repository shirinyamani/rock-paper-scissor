{
 "cells": [
  {
   "cell_type": "code",
   "execution_count": 1,
   "metadata": {},
   "outputs": [],
   "source": [
    "import random\n",
    "#get user choice\n",
    "# get computer choice\n",
    "#decide the winner\n",
    "#wanna play again"
   ]
  },
  {
   "cell_type": "markdown",
   "metadata": {},
   "source": [
    "- get player choice\n",
    "- get computer choice\n",
    "- get winner\n",
    "- print winner\n",
    "- play again \n"
   ]
  },
  {
   "cell_type": "markdown",
   "metadata": {},
   "source": []
  },
  {
   "cell_type": "code",
   "execution_count": 8,
   "metadata": {},
   "outputs": [],
   "source": [
    "class Game:\n",
    "    def __init__(self):\n",
    "        self.choices = ['r', 'p', 's']\n",
    "\n",
    "    def get_user_choice(self):\n",
    "        user_input = input(f'Please your choice from:{self.choices}.')\n",
    "        if user_input.lower() in self.choices:\n",
    "            return user_input.lower()\n",
    "        print(f\"Invalid input, choose from: {self.choices}:\")\n",
    "        return self.get_user_choice()\n",
    "\n",
    "\n",
    "    def get_computer_choice(self):\n",
    "         return random.choice(self.choices)\n",
    "         \n",
    "\n",
    "    def winner(self, com_choice, user_input):\n",
    "        if com_choice == user_input:\n",
    "            return \"It's a Tie!\"\n",
    "        win_combo = [('r','s'), ('s', 'p'), ('p', 'r')]\n",
    "        for combo in win_combo:\n",
    "            if (com_choice == combo[0]) & (user_input == combo[1]):\n",
    "                return 'COmputer won!'\n",
    "        return \"Congrats! Yoy won!\"\n",
    "        \n",
    "    \n",
    "    def play(self):\n",
    "        user_input = self.get_user_choice()\n",
    "        com_choice = self.get_computer_choice()\n",
    "        print(self.winner(com_choice, user_input))"
   ]
  },
  {
   "cell_type": "code",
   "execution_count": 7,
   "metadata": {},
   "outputs": [
    {
     "name": "stdout",
     "output_type": "stream",
     "text": [
      "It's a Tie!\n"
     ]
    }
   ],
   "source": [
    "game = Game()\n",
    "\n",
    "while True:\n",
    "    game.play()\n",
    "\n",
    "    continue_game = input(\"You wanna play more? q/yes\")\n",
    "    if continue_game.lower() == \"q\":\n",
    "        break\n",
    "        "
   ]
  },
  {
   "cell_type": "code",
   "execution_count": null,
   "metadata": {},
   "outputs": [],
   "source": []
  }
 ],
 "metadata": {
  "kernelspec": {
   "display_name": "ali-ml",
   "language": "python",
   "name": "python3"
  },
  "language_info": {
   "codemirror_mode": {
    "name": "ipython",
    "version": 3
   },
   "file_extension": ".py",
   "mimetype": "text/x-python",
   "name": "python",
   "nbconvert_exporter": "python",
   "pygments_lexer": "ipython3",
   "version": "3.10.12"
  }
 },
 "nbformat": 4,
 "nbformat_minor": 2
}
